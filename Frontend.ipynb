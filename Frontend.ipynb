{
 "cells": [
  {
   "cell_type": "code",
   "execution_count": 1,
   "id": "9e973646-a4e5-4031-bfa4-2e5d1a0cc789",
   "metadata": {},
   "outputs": [
    {
     "name": "stdout",
     "output_type": "stream",
     "text": [
      "Collecting streamlit\n",
      "  Downloading streamlit-1.32.2-py2.py3-none-any.whl.metadata (8.5 kB)\n",
      "Collecting altair<6,>=4.0 (from streamlit)\n",
      "  Downloading altair-5.3.0-py3-none-any.whl.metadata (9.2 kB)\n",
      "Collecting blinker<2,>=1.0.0 (from streamlit)\n",
      "  Using cached blinker-1.7.0-py3-none-any.whl.metadata (1.9 kB)\n",
      "Collecting cachetools<6,>=4.0 (from streamlit)\n",
      "  Downloading cachetools-5.3.3-py3-none-any.whl.metadata (5.3 kB)\n",
      "Collecting click<9,>=7.0 (from streamlit)\n",
      "  Using cached click-8.1.7-py3-none-any.whl.metadata (3.0 kB)\n",
      "Requirement already satisfied: numpy<2,>=1.19.3 in ./lib/python3.12/site-packages (from streamlit) (1.26.4)\n",
      "Collecting packaging<24,>=16.8 (from streamlit)\n",
      "  Downloading packaging-23.2-py3-none-any.whl.metadata (3.2 kB)\n",
      "Requirement already satisfied: pandas<3,>=1.3.0 in ./lib/python3.12/site-packages (from streamlit) (2.2.1)\n",
      "Requirement already satisfied: pillow<11,>=7.1.0 in ./lib/python3.12/site-packages (from streamlit) (10.3.0)\n",
      "Collecting protobuf<5,>=3.20 (from streamlit)\n",
      "  Downloading protobuf-4.25.3-cp37-abi3-macosx_10_9_universal2.whl.metadata (541 bytes)\n",
      "Collecting pyarrow>=7.0 (from streamlit)\n",
      "  Downloading pyarrow-15.0.2-cp312-cp312-macosx_11_0_arm64.whl.metadata (3.0 kB)\n",
      "Requirement already satisfied: requests<3,>=2.27 in ./lib/python3.12/site-packages (from streamlit) (2.31.0)\n",
      "Collecting rich<14,>=10.14.0 (from streamlit)\n",
      "  Downloading rich-13.7.1-py3-none-any.whl.metadata (18 kB)\n",
      "Collecting tenacity<9,>=8.1.0 (from streamlit)\n",
      "  Downloading tenacity-8.2.3-py3-none-any.whl.metadata (1.0 kB)\n",
      "Collecting toml<2,>=0.10.1 (from streamlit)\n",
      "  Downloading toml-0.10.2-py2.py3-none-any.whl.metadata (7.1 kB)\n",
      "Collecting typing-extensions<5,>=4.3.0 (from streamlit)\n",
      "  Downloading typing_extensions-4.10.0-py3-none-any.whl.metadata (3.0 kB)\n",
      "Collecting gitpython!=3.1.19,<4,>=3.0.7 (from streamlit)\n",
      "  Downloading GitPython-3.1.43-py3-none-any.whl.metadata (13 kB)\n",
      "Collecting pydeck<1,>=0.8.0b4 (from streamlit)\n",
      "  Downloading pydeck-0.8.1b0-py2.py3-none-any.whl.metadata (3.9 kB)\n",
      "Requirement already satisfied: tornado<7,>=6.0.3 in ./lib/python3.12/site-packages (from streamlit) (6.4)\n",
      "Requirement already satisfied: jinja2 in ./lib/python3.12/site-packages (from altair<6,>=4.0->streamlit) (3.1.3)\n",
      "Requirement already satisfied: jsonschema>=3.0 in ./lib/python3.12/site-packages (from altair<6,>=4.0->streamlit) (4.21.1)\n",
      "Collecting toolz (from altair<6,>=4.0->streamlit)\n",
      "  Downloading toolz-0.12.1-py3-none-any.whl.metadata (5.1 kB)\n",
      "Collecting gitdb<5,>=4.0.1 (from gitpython!=3.1.19,<4,>=3.0.7->streamlit)\n",
      "  Downloading gitdb-4.0.11-py3-none-any.whl.metadata (1.2 kB)\n",
      "Requirement already satisfied: python-dateutil>=2.8.2 in ./lib/python3.12/site-packages (from pandas<3,>=1.3.0->streamlit) (2.9.0.post0)\n",
      "Requirement already satisfied: pytz>=2020.1 in ./lib/python3.12/site-packages (from pandas<3,>=1.3.0->streamlit) (2024.1)\n",
      "Requirement already satisfied: tzdata>=2022.7 in ./lib/python3.12/site-packages (from pandas<3,>=1.3.0->streamlit) (2024.1)\n",
      "Requirement already satisfied: charset-normalizer<4,>=2 in ./lib/python3.12/site-packages (from requests<3,>=2.27->streamlit) (3.3.2)\n",
      "Requirement already satisfied: idna<4,>=2.5 in ./lib/python3.12/site-packages (from requests<3,>=2.27->streamlit) (3.6)\n",
      "Requirement already satisfied: urllib3<3,>=1.21.1 in ./lib/python3.12/site-packages (from requests<3,>=2.27->streamlit) (2.2.1)\n",
      "Requirement already satisfied: certifi>=2017.4.17 in ./lib/python3.12/site-packages (from requests<3,>=2.27->streamlit) (2024.2.2)\n",
      "Collecting markdown-it-py>=2.2.0 (from rich<14,>=10.14.0->streamlit)\n",
      "  Downloading markdown_it_py-3.0.0-py3-none-any.whl.metadata (6.9 kB)\n",
      "Requirement already satisfied: pygments<3.0.0,>=2.13.0 in ./lib/python3.12/site-packages (from rich<14,>=10.14.0->streamlit) (2.17.2)\n",
      "Collecting smmap<6,>=3.0.1 (from gitdb<5,>=4.0.1->gitpython!=3.1.19,<4,>=3.0.7->streamlit)\n",
      "  Downloading smmap-5.0.1-py3-none-any.whl.metadata (4.3 kB)\n",
      "Requirement already satisfied: MarkupSafe>=2.0 in ./lib/python3.12/site-packages (from jinja2->altair<6,>=4.0->streamlit) (2.1.5)\n",
      "Requirement already satisfied: attrs>=22.2.0 in ./lib/python3.12/site-packages (from jsonschema>=3.0->altair<6,>=4.0->streamlit) (23.2.0)\n",
      "Requirement already satisfied: jsonschema-specifications>=2023.03.6 in ./lib/python3.12/site-packages (from jsonschema>=3.0->altair<6,>=4.0->streamlit) (2023.12.1)\n",
      "Requirement already satisfied: referencing>=0.28.4 in ./lib/python3.12/site-packages (from jsonschema>=3.0->altair<6,>=4.0->streamlit) (0.34.0)\n",
      "Requirement already satisfied: rpds-py>=0.7.1 in ./lib/python3.12/site-packages (from jsonschema>=3.0->altair<6,>=4.0->streamlit) (0.18.0)\n",
      "Collecting mdurl~=0.1 (from markdown-it-py>=2.2.0->rich<14,>=10.14.0->streamlit)\n",
      "  Downloading mdurl-0.1.2-py3-none-any.whl.metadata (1.6 kB)\n",
      "Requirement already satisfied: six>=1.5 in ./lib/python3.12/site-packages (from python-dateutil>=2.8.2->pandas<3,>=1.3.0->streamlit) (1.16.0)\n",
      "Downloading streamlit-1.32.2-py2.py3-none-any.whl (8.1 MB)\n",
      "\u001b[2K   \u001b[90m━━━━━━━━━━━━━━━━━━━━━━━━━━━━━━━━━━━━━━━━\u001b[0m \u001b[32m8.1/8.1 MB\u001b[0m \u001b[31m18.0 MB/s\u001b[0m eta \u001b[36m0:00:00\u001b[0m00:01\u001b[0m00:01\u001b[0m\n",
      "\u001b[?25hDownloading altair-5.3.0-py3-none-any.whl (857 kB)\n",
      "\u001b[2K   \u001b[90m━━━━━━━━━━━━━━━━━━━━━━━━━━━━━━━━━━━━━━━━\u001b[0m \u001b[32m857.8/857.8 kB\u001b[0m \u001b[31m29.2 MB/s\u001b[0m eta \u001b[36m0:00:00\u001b[0m\n",
      "\u001b[?25hUsing cached blinker-1.7.0-py3-none-any.whl (13 kB)\n",
      "Downloading cachetools-5.3.3-py3-none-any.whl (9.3 kB)\n",
      "Using cached click-8.1.7-py3-none-any.whl (97 kB)\n",
      "Downloading GitPython-3.1.43-py3-none-any.whl (207 kB)\n",
      "\u001b[2K   \u001b[90m━━━━━━━━━━━━━━━━━━━━━━━━━━━━━━━━━━━━━━━━\u001b[0m \u001b[32m207.3/207.3 kB\u001b[0m \u001b[31m8.6 MB/s\u001b[0m eta \u001b[36m0:00:00\u001b[0m\n",
      "\u001b[?25hDownloading packaging-23.2-py3-none-any.whl (53 kB)\n",
      "\u001b[2K   \u001b[90m━━━━━━━━━━━━━━━━━━━━━━━━━━━━━━━━━━━━━━━━\u001b[0m \u001b[32m53.0/53.0 kB\u001b[0m \u001b[31m1.8 MB/s\u001b[0m eta \u001b[36m0:00:00\u001b[0m\n",
      "\u001b[?25hDownloading protobuf-4.25.3-cp37-abi3-macosx_10_9_universal2.whl (394 kB)\n",
      "\u001b[2K   \u001b[90m━━━━━━━━━━━━━━━━━━━━━━━━━━━━━━━━━━━━━━━━\u001b[0m \u001b[32m394.2/394.2 kB\u001b[0m \u001b[31m13.4 MB/s\u001b[0m eta \u001b[36m0:00:00\u001b[0m\n",
      "\u001b[?25hDownloading pyarrow-15.0.2-cp312-cp312-macosx_11_0_arm64.whl (24.2 MB)\n",
      "\u001b[2K   \u001b[90m━━━━━━━━━━━━━━━━━━━━━━━━━━━━━━━━━━━━━━━━\u001b[0m \u001b[32m24.2/24.2 MB\u001b[0m \u001b[31m35.2 MB/s\u001b[0m eta \u001b[36m0:00:00\u001b[0m00:01\u001b[0m00:01\u001b[0m\n",
      "\u001b[?25hDownloading pydeck-0.8.1b0-py2.py3-none-any.whl (4.8 MB)\n",
      "\u001b[2K   \u001b[90m━━━━━━━━━━━━━━━━━━━━━━━━━━━━━━━━━━━━━━━━\u001b[0m \u001b[32m4.8/4.8 MB\u001b[0m \u001b[31m28.2 MB/s\u001b[0m eta \u001b[36m0:00:00\u001b[0m00:01\u001b[0m00:01\u001b[0m\n",
      "\u001b[?25hDownloading rich-13.7.1-py3-none-any.whl (240 kB)\n",
      "\u001b[2K   \u001b[90m━━━━━━━━━━━━━━━━━━━━━━━━━━━━━━━━━━━━━━━━\u001b[0m \u001b[32m240.7/240.7 kB\u001b[0m \u001b[31m8.8 MB/s\u001b[0m eta \u001b[36m0:00:00\u001b[0m\n",
      "\u001b[?25hDownloading tenacity-8.2.3-py3-none-any.whl (24 kB)\n",
      "Downloading toml-0.10.2-py2.py3-none-any.whl (16 kB)\n",
      "Downloading typing_extensions-4.10.0-py3-none-any.whl (33 kB)\n",
      "Downloading gitdb-4.0.11-py3-none-any.whl (62 kB)\n",
      "\u001b[2K   \u001b[90m━━━━━━━━━━━━━━━━━━━━━━━━━━━━━━━━━━━━━━━━\u001b[0m \u001b[32m62.7/62.7 kB\u001b[0m \u001b[31m8.7 MB/s\u001b[0m eta \u001b[36m0:00:00\u001b[0m\n",
      "\u001b[?25hDownloading markdown_it_py-3.0.0-py3-none-any.whl (87 kB)\n",
      "\u001b[2K   \u001b[90m━━━━━━━━━━━━━━━━━━━━━━━━━━━━━━━━━━━━━━━━\u001b[0m \u001b[32m87.5/87.5 kB\u001b[0m \u001b[31m3.4 MB/s\u001b[0m eta \u001b[36m0:00:00\u001b[0m\n",
      "\u001b[?25hDownloading toolz-0.12.1-py3-none-any.whl (56 kB)\n",
      "\u001b[2K   \u001b[90m━━━━━━━━━━━━━━━━━━━━━━━━━━━━━━━━━━━━━━━━\u001b[0m \u001b[32m56.1/56.1 kB\u001b[0m \u001b[31m2.1 MB/s\u001b[0m eta \u001b[36m0:00:00\u001b[0m\n",
      "\u001b[?25hDownloading mdurl-0.1.2-py3-none-any.whl (10.0 kB)\n",
      "Downloading smmap-5.0.1-py3-none-any.whl (24 kB)\n",
      "Installing collected packages: typing-extensions, toolz, toml, tenacity, smmap, pyarrow, protobuf, packaging, mdurl, click, cachetools, blinker, pydeck, markdown-it-py, gitdb, rich, gitpython, altair, streamlit\n",
      "  Attempting uninstall: packaging\n",
      "    Found existing installation: packaging 24.0\n",
      "    Uninstalling packaging-24.0:\n",
      "      Successfully uninstalled packaging-24.0\n",
      "Successfully installed altair-5.3.0 blinker-1.7.0 cachetools-5.3.3 click-8.1.7 gitdb-4.0.11 gitpython-3.1.43 markdown-it-py-3.0.0 mdurl-0.1.2 packaging-23.2 protobuf-4.25.3 pyarrow-15.0.2 pydeck-0.8.1b0 rich-13.7.1 smmap-5.0.1 streamlit-1.32.2 tenacity-8.2.3 toml-0.10.2 toolz-0.12.1 typing-extensions-4.10.0\n",
      "Note: you may need to restart the kernel to use updated packages.\n"
     ]
    }
   ],
   "source": [
    "pip install streamlit\n"
   ]
  },
  {
   "cell_type": "code",
   "execution_count": 5,
   "id": "1a4d7b13-3694-4124-9b48-0dfcc0c9cb77",
   "metadata": {},
   "outputs": [
    {
     "name": "stdout",
     "output_type": "stream",
     "text": [
      "Collecting flask\n",
      "  Downloading flask-3.0.2-py3-none-any.whl.metadata (3.6 kB)\n",
      "Collecting Werkzeug>=3.0.0 (from flask)\n",
      "  Downloading werkzeug-3.0.2-py3-none-any.whl.metadata (4.1 kB)\n",
      "Requirement already satisfied: Jinja2>=3.1.2 in ./lib/python3.12/site-packages (from flask) (3.1.3)\n",
      "Collecting itsdangerous>=2.1.2 (from flask)\n",
      "  Downloading itsdangerous-2.1.2-py3-none-any.whl.metadata (2.9 kB)\n",
      "Requirement already satisfied: click>=8.1.3 in ./lib/python3.12/site-packages (from flask) (8.1.7)\n",
      "Requirement already satisfied: blinker>=1.6.2 in ./lib/python3.12/site-packages (from flask) (1.7.0)\n",
      "Requirement already satisfied: MarkupSafe>=2.0 in ./lib/python3.12/site-packages (from Jinja2>=3.1.2->flask) (2.1.5)\n",
      "Downloading flask-3.0.2-py3-none-any.whl (101 kB)\n",
      "\u001b[2K   \u001b[90m━━━━━━━━━━━━━━━━━━━━━━━━━━━━━━━━━━━━━━━━\u001b[0m \u001b[32m101.3/101.3 kB\u001b[0m \u001b[31m1.6 MB/s\u001b[0m eta \u001b[36m0:00:00\u001b[0m \u001b[36m0:00:01\u001b[0m\n",
      "\u001b[?25hUsing cached itsdangerous-2.1.2-py3-none-any.whl (15 kB)\n",
      "Downloading werkzeug-3.0.2-py3-none-any.whl (226 kB)\n",
      "\u001b[2K   \u001b[90m━━━━━━━━━━━━━━━━━━━━━━━━━━━━━━━━━━━━━━━━\u001b[0m \u001b[32m226.8/226.8 kB\u001b[0m \u001b[31m3.9 MB/s\u001b[0m eta \u001b[36m0:00:00\u001b[0m00:01\u001b[0m\n",
      "\u001b[?25hInstalling collected packages: Werkzeug, itsdangerous, flask\n",
      "Successfully installed Werkzeug-3.0.2 flask-3.0.2 itsdangerous-2.1.2\n"
     ]
    }
   ],
   "source": [
    "!pip install flask\n"
   ]
  },
  {
   "cell_type": "code",
   "execution_count": 7,
   "id": "917b186b-3844-47d4-98b6-629d7b18115a",
   "metadata": {},
   "outputs": [
    {
     "name": "stdout",
     "output_type": "stream",
     "text": [
      "Requirement already satisfied: ipywidgets in ./lib/python3.12/site-packages (8.1.2)\n",
      "Collecting voila\n",
      "  Downloading voila-0.5.6-py3-none-any.whl.metadata (9.1 kB)\n",
      "Requirement already satisfied: pandas in ./lib/python3.12/site-packages (2.2.1)\n",
      "Requirement already satisfied: comm>=0.1.3 in ./lib/python3.12/site-packages (from ipywidgets) (0.2.2)\n",
      "Requirement already satisfied: ipython>=6.1.0 in ./lib/python3.12/site-packages (from ipywidgets) (8.23.0)\n",
      "Requirement already satisfied: traitlets>=4.3.1 in ./lib/python3.12/site-packages (from ipywidgets) (5.14.2)\n",
      "Requirement already satisfied: widgetsnbextension~=4.0.10 in ./lib/python3.12/site-packages (from ipywidgets) (4.0.10)\n",
      "Requirement already satisfied: jupyterlab-widgets~=3.0.10 in ./lib/python3.12/site-packages (from ipywidgets) (3.0.10)\n",
      "Requirement already satisfied: jupyter-client<9,>=7.4.4 in ./lib/python3.12/site-packages (from voila) (8.6.1)\n",
      "Requirement already satisfied: jupyter-core>=4.11.0 in ./lib/python3.12/site-packages (from voila) (5.7.2)\n",
      "Requirement already satisfied: jupyter-server<3,>=2.0.0 in ./lib/python3.12/site-packages (from voila) (2.13.0)\n",
      "Requirement already satisfied: jupyterlab-server<3,>=2.3.0 in ./lib/python3.12/site-packages (from voila) (2.25.4)\n",
      "Collecting nbclient<0.8,>=0.4.0 (from voila)\n",
      "  Downloading nbclient-0.7.4-py3-none-any.whl.metadata (7.9 kB)\n",
      "Requirement already satisfied: nbconvert<8,>=6.4.5 in ./lib/python3.12/site-packages (from voila) (7.16.3)\n",
      "Collecting websockets>=9.0 (from voila)\n",
      "  Downloading websockets-12.0-cp312-cp312-macosx_11_0_arm64.whl.metadata (6.6 kB)\n",
      "Requirement already satisfied: numpy<2,>=1.26.0 in ./lib/python3.12/site-packages (from pandas) (1.26.4)\n",
      "Requirement already satisfied: python-dateutil>=2.8.2 in ./lib/python3.12/site-packages (from pandas) (2.9.0.post0)\n",
      "Requirement already satisfied: pytz>=2020.1 in ./lib/python3.12/site-packages (from pandas) (2024.1)\n",
      "Requirement already satisfied: tzdata>=2022.7 in ./lib/python3.12/site-packages (from pandas) (2024.1)\n",
      "Requirement already satisfied: decorator in ./lib/python3.12/site-packages (from ipython>=6.1.0->ipywidgets) (5.1.1)\n",
      "Requirement already satisfied: jedi>=0.16 in ./lib/python3.12/site-packages (from ipython>=6.1.0->ipywidgets) (0.19.1)\n",
      "Requirement already satisfied: matplotlib-inline in ./lib/python3.12/site-packages (from ipython>=6.1.0->ipywidgets) (0.1.6)\n",
      "Requirement already satisfied: prompt-toolkit<3.1.0,>=3.0.41 in ./lib/python3.12/site-packages (from ipython>=6.1.0->ipywidgets) (3.0.43)\n",
      "Requirement already satisfied: pygments>=2.4.0 in ./lib/python3.12/site-packages (from ipython>=6.1.0->ipywidgets) (2.17.2)\n",
      "Requirement already satisfied: stack-data in ./lib/python3.12/site-packages (from ipython>=6.1.0->ipywidgets) (0.6.3)\n",
      "Requirement already satisfied: pexpect>4.3 in ./lib/python3.12/site-packages (from ipython>=6.1.0->ipywidgets) (4.9.0)\n",
      "Requirement already satisfied: pyzmq>=23.0 in ./lib/python3.12/site-packages (from jupyter-client<9,>=7.4.4->voila) (25.1.2)\n",
      "Requirement already satisfied: tornado>=6.2 in ./lib/python3.12/site-packages (from jupyter-client<9,>=7.4.4->voila) (6.4)\n",
      "Requirement already satisfied: platformdirs>=2.5 in ./lib/python3.12/site-packages (from jupyter-core>=4.11.0->voila) (4.2.0)\n",
      "Requirement already satisfied: anyio>=3.1.0 in ./lib/python3.12/site-packages (from jupyter-server<3,>=2.0.0->voila) (4.3.0)\n",
      "Requirement already satisfied: argon2-cffi in ./lib/python3.12/site-packages (from jupyter-server<3,>=2.0.0->voila) (23.1.0)\n",
      "Requirement already satisfied: jinja2 in ./lib/python3.12/site-packages (from jupyter-server<3,>=2.0.0->voila) (3.1.3)\n",
      "Requirement already satisfied: jupyter-events>=0.9.0 in ./lib/python3.12/site-packages (from jupyter-server<3,>=2.0.0->voila) (0.10.0)\n",
      "Requirement already satisfied: jupyter-server-terminals in ./lib/python3.12/site-packages (from jupyter-server<3,>=2.0.0->voila) (0.5.3)\n",
      "Requirement already satisfied: nbformat>=5.3.0 in ./lib/python3.12/site-packages (from jupyter-server<3,>=2.0.0->voila) (5.10.3)\n",
      "Requirement already satisfied: overrides in ./lib/python3.12/site-packages (from jupyter-server<3,>=2.0.0->voila) (7.7.0)\n",
      "Requirement already satisfied: packaging in ./lib/python3.12/site-packages (from jupyter-server<3,>=2.0.0->voila) (23.2)\n",
      "Requirement already satisfied: prometheus-client in ./lib/python3.12/site-packages (from jupyter-server<3,>=2.0.0->voila) (0.20.0)\n",
      "Requirement already satisfied: send2trash>=1.8.2 in ./lib/python3.12/site-packages (from jupyter-server<3,>=2.0.0->voila) (1.8.2)\n",
      "Requirement already satisfied: terminado>=0.8.3 in ./lib/python3.12/site-packages (from jupyter-server<3,>=2.0.0->voila) (0.18.1)\n",
      "Requirement already satisfied: websocket-client in ./lib/python3.12/site-packages (from jupyter-server<3,>=2.0.0->voila) (1.7.0)\n",
      "Requirement already satisfied: babel>=2.10 in ./lib/python3.12/site-packages (from jupyterlab-server<3,>=2.3.0->voila) (2.14.0)\n",
      "Requirement already satisfied: json5>=0.9.0 in ./lib/python3.12/site-packages (from jupyterlab-server<3,>=2.3.0->voila) (0.9.24)\n",
      "Requirement already satisfied: jsonschema>=4.18.0 in ./lib/python3.12/site-packages (from jupyterlab-server<3,>=2.3.0->voila) (4.21.1)\n",
      "Requirement already satisfied: requests>=2.31 in ./lib/python3.12/site-packages (from jupyterlab-server<3,>=2.3.0->voila) (2.31.0)\n",
      "Requirement already satisfied: beautifulsoup4 in ./lib/python3.12/site-packages (from nbconvert<8,>=6.4.5->voila) (4.12.3)\n",
      "Requirement already satisfied: bleach!=5.0.0 in ./lib/python3.12/site-packages (from nbconvert<8,>=6.4.5->voila) (6.1.0)\n",
      "Requirement already satisfied: defusedxml in ./lib/python3.12/site-packages (from nbconvert<8,>=6.4.5->voila) (0.7.1)\n",
      "Requirement already satisfied: jupyterlab-pygments in ./lib/python3.12/site-packages (from nbconvert<8,>=6.4.5->voila) (0.3.0)\n",
      "Requirement already satisfied: markupsafe>=2.0 in ./lib/python3.12/site-packages (from nbconvert<8,>=6.4.5->voila) (2.1.5)\n",
      "Requirement already satisfied: mistune<4,>=2.0.3 in ./lib/python3.12/site-packages (from nbconvert<8,>=6.4.5->voila) (3.0.2)\n",
      "Requirement already satisfied: pandocfilters>=1.4.1 in ./lib/python3.12/site-packages (from nbconvert<8,>=6.4.5->voila) (1.5.1)\n",
      "Requirement already satisfied: tinycss2 in ./lib/python3.12/site-packages (from nbconvert<8,>=6.4.5->voila) (1.2.1)\n",
      "Requirement already satisfied: six>=1.5 in ./lib/python3.12/site-packages (from python-dateutil>=2.8.2->pandas) (1.16.0)\n",
      "Requirement already satisfied: idna>=2.8 in ./lib/python3.12/site-packages (from anyio>=3.1.0->jupyter-server<3,>=2.0.0->voila) (3.6)\n",
      "Requirement already satisfied: sniffio>=1.1 in ./lib/python3.12/site-packages (from anyio>=3.1.0->jupyter-server<3,>=2.0.0->voila) (1.3.1)\n",
      "Requirement already satisfied: webencodings in ./lib/python3.12/site-packages (from bleach!=5.0.0->nbconvert<8,>=6.4.5->voila) (0.5.1)\n",
      "Requirement already satisfied: parso<0.9.0,>=0.8.3 in ./lib/python3.12/site-packages (from jedi>=0.16->ipython>=6.1.0->ipywidgets) (0.8.3)\n",
      "Requirement already satisfied: attrs>=22.2.0 in ./lib/python3.12/site-packages (from jsonschema>=4.18.0->jupyterlab-server<3,>=2.3.0->voila) (23.2.0)\n",
      "Requirement already satisfied: jsonschema-specifications>=2023.03.6 in ./lib/python3.12/site-packages (from jsonschema>=4.18.0->jupyterlab-server<3,>=2.3.0->voila) (2023.12.1)\n",
      "Requirement already satisfied: referencing>=0.28.4 in ./lib/python3.12/site-packages (from jsonschema>=4.18.0->jupyterlab-server<3,>=2.3.0->voila) (0.34.0)\n",
      "Requirement already satisfied: rpds-py>=0.7.1 in ./lib/python3.12/site-packages (from jsonschema>=4.18.0->jupyterlab-server<3,>=2.3.0->voila) (0.18.0)\n",
      "Requirement already satisfied: python-json-logger>=2.0.4 in ./lib/python3.12/site-packages (from jupyter-events>=0.9.0->jupyter-server<3,>=2.0.0->voila) (2.0.7)\n",
      "Requirement already satisfied: pyyaml>=5.3 in ./lib/python3.12/site-packages (from jupyter-events>=0.9.0->jupyter-server<3,>=2.0.0->voila) (6.0.1)\n",
      "Requirement already satisfied: rfc3339-validator in ./lib/python3.12/site-packages (from jupyter-events>=0.9.0->jupyter-server<3,>=2.0.0->voila) (0.1.4)\n",
      "Requirement already satisfied: rfc3986-validator>=0.1.1 in ./lib/python3.12/site-packages (from jupyter-events>=0.9.0->jupyter-server<3,>=2.0.0->voila) (0.1.1)\n",
      "Requirement already satisfied: fastjsonschema in ./lib/python3.12/site-packages (from nbformat>=5.3.0->jupyter-server<3,>=2.0.0->voila) (2.19.1)\n",
      "Requirement already satisfied: ptyprocess>=0.5 in ./lib/python3.12/site-packages (from pexpect>4.3->ipython>=6.1.0->ipywidgets) (0.7.0)\n",
      "Requirement already satisfied: wcwidth in ./lib/python3.12/site-packages (from prompt-toolkit<3.1.0,>=3.0.41->ipython>=6.1.0->ipywidgets) (0.2.13)\n",
      "Requirement already satisfied: charset-normalizer<4,>=2 in ./lib/python3.12/site-packages (from requests>=2.31->jupyterlab-server<3,>=2.3.0->voila) (3.3.2)\n",
      "Requirement already satisfied: urllib3<3,>=1.21.1 in ./lib/python3.12/site-packages (from requests>=2.31->jupyterlab-server<3,>=2.3.0->voila) (2.2.1)\n",
      "Requirement already satisfied: certifi>=2017.4.17 in ./lib/python3.12/site-packages (from requests>=2.31->jupyterlab-server<3,>=2.3.0->voila) (2024.2.2)\n",
      "Requirement already satisfied: argon2-cffi-bindings in ./lib/python3.12/site-packages (from argon2-cffi->jupyter-server<3,>=2.0.0->voila) (21.2.0)\n",
      "Requirement already satisfied: soupsieve>1.2 in ./lib/python3.12/site-packages (from beautifulsoup4->nbconvert<8,>=6.4.5->voila) (2.5)\n",
      "Requirement already satisfied: executing>=1.2.0 in ./lib/python3.12/site-packages (from stack-data->ipython>=6.1.0->ipywidgets) (2.0.1)\n",
      "Requirement already satisfied: asttokens>=2.1.0 in ./lib/python3.12/site-packages (from stack-data->ipython>=6.1.0->ipywidgets) (2.4.1)\n",
      "Requirement already satisfied: pure-eval in ./lib/python3.12/site-packages (from stack-data->ipython>=6.1.0->ipywidgets) (0.2.2)\n",
      "Requirement already satisfied: fqdn in ./lib/python3.12/site-packages (from jsonschema[format-nongpl]>=4.18.0->jupyter-events>=0.9.0->jupyter-server<3,>=2.0.0->voila) (1.5.1)\n",
      "Requirement already satisfied: isoduration in ./lib/python3.12/site-packages (from jsonschema[format-nongpl]>=4.18.0->jupyter-events>=0.9.0->jupyter-server<3,>=2.0.0->voila) (20.11.0)\n",
      "Requirement already satisfied: jsonpointer>1.13 in ./lib/python3.12/site-packages (from jsonschema[format-nongpl]>=4.18.0->jupyter-events>=0.9.0->jupyter-server<3,>=2.0.0->voila) (2.4)\n",
      "Requirement already satisfied: uri-template in ./lib/python3.12/site-packages (from jsonschema[format-nongpl]>=4.18.0->jupyter-events>=0.9.0->jupyter-server<3,>=2.0.0->voila) (1.3.0)\n",
      "Requirement already satisfied: webcolors>=1.11 in ./lib/python3.12/site-packages (from jsonschema[format-nongpl]>=4.18.0->jupyter-events>=0.9.0->jupyter-server<3,>=2.0.0->voila) (1.13)\n",
      "Requirement already satisfied: cffi>=1.0.1 in ./lib/python3.12/site-packages (from argon2-cffi-bindings->argon2-cffi->jupyter-server<3,>=2.0.0->voila) (1.16.0)\n",
      "Requirement already satisfied: pycparser in ./lib/python3.12/site-packages (from cffi>=1.0.1->argon2-cffi-bindings->argon2-cffi->jupyter-server<3,>=2.0.0->voila) (2.22)\n",
      "Requirement already satisfied: arrow>=0.15.0 in ./lib/python3.12/site-packages (from isoduration->jsonschema[format-nongpl]>=4.18.0->jupyter-events>=0.9.0->jupyter-server<3,>=2.0.0->voila) (1.3.0)\n",
      "Requirement already satisfied: types-python-dateutil>=2.8.10 in ./lib/python3.12/site-packages (from arrow>=0.15.0->isoduration->jsonschema[format-nongpl]>=4.18.0->jupyter-events>=0.9.0->jupyter-server<3,>=2.0.0->voila) (2.9.0.20240316)\n",
      "Downloading voila-0.5.6-py3-none-any.whl (3.9 MB)\n",
      "\u001b[2K   \u001b[90m━━━━━━━━━━━━━━━━━━━━━━━━━━━━━━━━━━━━━━━━\u001b[0m \u001b[32m3.9/3.9 MB\u001b[0m \u001b[31m15.2 MB/s\u001b[0m eta \u001b[36m0:00:00\u001b[0m00:01\u001b[0m00:01\u001b[0m\n",
      "\u001b[?25hDownloading nbclient-0.7.4-py3-none-any.whl (73 kB)\n",
      "\u001b[2K   \u001b[90m━━━━━━━━━━━━━━━━━━━━━━━━━━━━━━━━━━━━━━━━\u001b[0m \u001b[32m73.1/73.1 kB\u001b[0m \u001b[31m2.7 MB/s\u001b[0m eta \u001b[36m0:00:00\u001b[0m\n",
      "\u001b[?25hDownloading websockets-12.0-cp312-cp312-macosx_11_0_arm64.whl (121 kB)\n",
      "\u001b[2K   \u001b[90m━━━━━━━━━━━━━━━━━━━━━━━━━━━━━━━━━━━━━━━━\u001b[0m \u001b[32m121.3/121.3 kB\u001b[0m \u001b[31m5.1 MB/s\u001b[0m eta \u001b[36m0:00:00\u001b[0m\n",
      "\u001b[?25hInstalling collected packages: websockets, nbclient, voila\n",
      "  Attempting uninstall: nbclient\n",
      "    Found existing installation: nbclient 0.10.0\n",
      "    Uninstalling nbclient-0.10.0:\n",
      "      Successfully uninstalled nbclient-0.10.0\n",
      "Successfully installed nbclient-0.7.4 voila-0.5.6 websockets-12.0\n",
      "Note: you may need to restart the kernel to use updated packages.\n"
     ]
    }
   ],
   "source": [
    "pip install ipywidgets voila pandas\n"
   ]
  },
  {
   "cell_type": "code",
   "execution_count": 8,
   "id": "1f97fb6c-73c2-4081-b0cd-9b211effd44b",
   "metadata": {},
   "outputs": [],
   "source": [
    "import ipywidgets as widgets\n",
    "from IPython.display import display\n",
    "import pandas as pd\n"
   ]
  },
  {
   "cell_type": "code",
   "execution_count": 9,
   "id": "ec307e10-7414-49db-8855-a6a4b02f72dd",
   "metadata": {},
   "outputs": [],
   "source": [
    "df = pd.read_csv('cleaned_df.csv')\n"
   ]
  },
  {
   "cell_type": "code",
   "execution_count": 10,
   "id": "8df1f269-11b9-4e49-a196-51ec60b96b6b",
   "metadata": {},
   "outputs": [],
   "source": [
    "state_dropdown = widgets.Dropdown(options=df['State'].unique(), description='State')\n",
    "city_dropdown = widgets.Dropdown(description='City')\n",
    "bedrooms_slider = widgets.IntSlider(min=df['Bedroom'].min(), max=df['Bedroom'].max(), description='Bedrooms')\n",
    "bathrooms_slider = widgets.IntSlider(min=df['Bathroom'].min(), max=df['Bathroom'].max(), description='Bathrooms')\n"
   ]
  },
  {
   "cell_type": "code",
   "execution_count": 11,
   "id": "64896377-9a0a-4dfc-8cbf-dc7639bcdb48",
   "metadata": {},
   "outputs": [
    {
     "data": {
      "application/vnd.jupyter.widget-view+json": {
       "model_id": "369341685ee34cd78ea102521170d484",
       "version_major": 2,
       "version_minor": 0
      },
      "text/plain": [
       "VBox(children=(Dropdown(description='State', options=('AL', 'AK', 'AZ', 'AR', 'OK', 'MO', 'CA', 'CO', 'CT', 'O…"
      ]
     },
     "metadata": {},
     "output_type": "display_data"
    },
    {
     "data": {
      "application/vnd.jupyter.widget-view+json": {
       "model_id": "514877adcab342c7a2cbf80fba0d7571",
       "version_major": 2,
       "version_minor": 0
      },
      "text/plain": [
       "Label(value='Predicted Price: $0')"
      ]
     },
     "metadata": {},
     "output_type": "display_data"
    }
   ],
   "source": [
    "#  Defining Prediction Function (Placeholder)\n",
    "def predict_price(state, city, bedrooms, bathrooms):\n",
    "    # I'm currently training the data\n",
    "    # For now, just returning a placeholder value\n",
    "    return bedrooms * 100000 + bathrooms * 50000\n",
    "\n",
    "# Step 6: Display Output\n",
    "output_label = widgets.Label()\n",
    "\n",
    "#  Linking Widgets and Callbacks\n",
    "def update_output(change):\n",
    "    predicted_price = predict_price(state_dropdown.value, city_dropdown.value, bedrooms_slider.value, bathrooms_slider.value)\n",
    "    output_label.value = f'Predicted Price: ${predicted_price}'\n",
    "\n",
    "state_dropdown.observe(update_output, names='value')\n",
    "city_dropdown.observe(update_output, names='value')\n",
    "bedrooms_slider.observe(update_output, names='value')\n",
    "bathrooms_slider.observe(update_output, names='value')\n",
    "\n",
    "#  Displaying Widgets\n",
    "def display_widgets():\n",
    "    update_output(None)\n",
    "    display(widgets.VBox([state_dropdown, city_dropdown, bedrooms_slider, bathrooms_slider]), output_label)\n",
    "\n",
    "display_widgets()\n"
   ]
  },
  {
   "cell_type": "code",
   "execution_count": null,
   "id": "d8e1d9aa-97ba-48d6-8657-2416aebcff8a",
   "metadata": {},
   "outputs": [],
   "source": []
  }
 ],
 "metadata": {
  "kernelspec": {
   "display_name": "Python 3 (ipykernel)",
   "language": "python",
   "name": "python3"
  },
  "language_info": {
   "codemirror_mode": {
    "name": "ipython",
    "version": 3
   },
   "file_extension": ".py",
   "mimetype": "text/x-python",
   "name": "python",
   "nbconvert_exporter": "python",
   "pygments_lexer": "ipython3",
   "version": "3.12.2"
  }
 },
 "nbformat": 4,
 "nbformat_minor": 5
}
